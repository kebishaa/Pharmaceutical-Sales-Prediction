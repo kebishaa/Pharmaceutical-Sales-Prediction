{
 "cells": [
  {
   "cell_type": "markdown",
   "id": "420f83fc",
   "metadata": {},
   "source": [
    "# ML Data preProcessing"
   ]
  },
  {
   "cell_type": "markdown",
   "id": "d3d2d673",
   "metadata": {},
   "source": [
    "It is important to process the data into a format where it can be fed to a machine learning model. This typically means converting all non-numeric columns to numeric, handling NaN values and generating new features from already existing features."
   ]
  },
  {
   "cell_type": "code",
   "execution_count": 1,
   "id": "fb6d1f6a",
   "metadata": {},
   "outputs": [],
   "source": [
    "#importing the libraries\n",
    "import numpy as np\n",
    "import pandas as pd\n",
    "from scipy import stats\n",
    "import datetime \n",
    "import plotly.express as px\n",
    "import seaborn as sns\n",
    "sns.set()\n",
    "import matplotlib.pyplot as plt\n",
    "%matplotlib inline\n",
    "from sklearn import preprocessing\n",
    "import plotly.graph_objects as go\n",
    "import warnings\n",
    "warnings.filterwarnings(\"ignore\")"
   ]
  },
  {
   "cell_type": "code",
   "execution_count": 2,
   "id": "5ce53de0",
   "metadata": {},
   "outputs": [],
   "source": [
    "#Adding scripts path\n",
    "import sys\n",
    "sys.path.insert(0,'../scripts/')\n",
    "from data_preProcessing import data_preProcessing_script\n",
    "from data_cleaner import DataCleaner"
   ]
  },
  {
   "cell_type": "code",
   "execution_count": 3,
   "id": "ddffe398",
   "metadata": {},
   "outputs": [],
   "source": [
    "# Reading data sets\n",
    "store_data = pd.read_csv('../data/store.csv')\n",
    "train_data = pd.read_csv('../data/train.csv')\n",
    "test_data = pd.read_csv('../data/test.csv')"
   ]
  },
  {
   "cell_type": "code",
   "execution_count": 4,
   "id": "dfccf521",
   "metadata": {},
   "outputs": [],
   "source": [
    "# Merging the training dataset with the store dataset \n",
    "train_store=pd.merge(train_data, store_data, on='Store', how='inner')"
   ]
  },
  {
   "cell_type": "code",
   "execution_count": 5,
   "id": "e73ce390",
   "metadata": {},
   "outputs": [],
   "source": [
    "# Merging the test dataset with the store dataset\n",
    "test_store=pd.merge(test_data, store_data, on='Store', how='inner')"
   ]
  },
  {
   "cell_type": "code",
   "execution_count": null,
   "id": "43fe21b8",
   "metadata": {},
   "outputs": [],
   "source": []
  }
 ],
 "metadata": {
  "kernelspec": {
   "display_name": "Python 3 (ipykernel)",
   "language": "python",
   "name": "python3"
  },
  "language_info": {
   "codemirror_mode": {
    "name": "ipython",
    "version": 3
   },
   "file_extension": ".py",
   "mimetype": "text/x-python",
   "name": "python",
   "nbconvert_exporter": "python",
   "pygments_lexer": "ipython3",
   "version": "3.9.12"
  }
 },
 "nbformat": 4,
 "nbformat_minor": 5
}
