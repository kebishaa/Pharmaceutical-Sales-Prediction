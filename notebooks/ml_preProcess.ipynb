{
 "cells": [
  {
   "cell_type": "markdown",
   "id": "a7b9f1ce",
   "metadata": {},
   "source": [
    "# ML Data preProcessing"
   ]
  },
  {
   "cell_type": "markdown",
   "id": "0f6157d3",
   "metadata": {},
   "source": [
    "It is important to process the data into a format where it can be fed to a machine learning model. This typically means converting all non-numeric columns to numeric, handling NaN values and generating new features from already existing features."
   ]
  },
  {
   "cell_type": "code",
   "execution_count": 1,
   "id": "94bf7baa",
   "metadata": {},
   "outputs": [],
   "source": [
    "#importing the libraries\n",
    "import numpy as np\n",
    "import pandas as pd\n",
    "from scipy import stats\n",
    "import datetime \n",
    "import plotly.express as px\n",
    "import seaborn as sns\n",
    "sns.set()\n",
    "import matplotlib.pyplot as plt\n",
    "%matplotlib inline\n",
    "from sklearn import preprocessing\n",
    "import plotly.graph_objects as go\n",
    "import warnings\n",
    "warnings.filterwarnings(\"ignore\")"
   ]
  },
  {
   "cell_type": "code",
   "execution_count": 2,
   "id": "1b9f12ea",
   "metadata": {},
   "outputs": [],
   "source": [
    "#Adding scripts path\n",
    "import sys\n",
    "sys.path.insert(0,'../scripts/')\n",
    "from data_preProcessing import data_preProcessing_script\n",
    "from data_cleaner import DataCleaner"
   ]
  },
  {
   "cell_type": "code",
   "execution_count": 3,
   "id": "b1ed36c5",
   "metadata": {},
   "outputs": [],
   "source": [
    "# Reading data sets\n",
    "store_data = pd.read_csv('../data/store.csv')\n",
    "train_data = pd.read_csv('../data/train.csv')\n",
    "test_data = pd.read_csv('../data/test.csv')"
   ]
  },
  {
   "cell_type": "code",
   "execution_count": 4,
   "id": "11c6e945",
   "metadata": {},
   "outputs": [],
   "source": [
    "# Merging the training dataset with the store dataset \n",
    "train_store=pd.merge(train_data, store_data, on='Store', how='inner')"
   ]
  },
  {
   "cell_type": "code",
   "execution_count": 5,
   "id": "43cd3121",
   "metadata": {},
   "outputs": [],
   "source": [
    "# Merging the test dataset with the store dataset\n",
    "test_store=pd.merge(test_data, store_data, on='Store', how='inner')"
   ]
  },
  {
   "cell_type": "code",
   "execution_count": 6,
   "id": "971b70db",
   "metadata": {},
   "outputs": [
    {
     "data": {
      "text/html": [
       "<div>\n",
       "<style scoped>\n",
       "    .dataframe tbody tr th:only-of-type {\n",
       "        vertical-align: middle;\n",
       "    }\n",
       "\n",
       "    .dataframe tbody tr th {\n",
       "        vertical-align: top;\n",
       "    }\n",
       "\n",
       "    .dataframe thead th {\n",
       "        text-align: right;\n",
       "    }\n",
       "</style>\n",
       "<table border=\"1\" class=\"dataframe\">\n",
       "  <thead>\n",
       "    <tr style=\"text-align: right;\">\n",
       "      <th></th>\n",
       "      <th>Store</th>\n",
       "      <th>DayOfWeek</th>\n",
       "      <th>Date</th>\n",
       "      <th>Sales</th>\n",
       "      <th>Customers</th>\n",
       "      <th>Open</th>\n",
       "      <th>Promo</th>\n",
       "      <th>StateHoliday</th>\n",
       "      <th>SchoolHoliday</th>\n",
       "      <th>StoreType</th>\n",
       "      <th>Assortment</th>\n",
       "      <th>CompetitionDistance</th>\n",
       "      <th>CompetitionOpenSinceMonth</th>\n",
       "      <th>CompetitionOpenSinceYear</th>\n",
       "      <th>Promo2</th>\n",
       "      <th>Promo2SinceWeek</th>\n",
       "      <th>Promo2SinceYear</th>\n",
       "      <th>PromoInterval</th>\n",
       "    </tr>\n",
       "  </thead>\n",
       "  <tbody>\n",
       "    <tr>\n",
       "      <th>0</th>\n",
       "      <td>1</td>\n",
       "      <td>5</td>\n",
       "      <td>2015-07-31</td>\n",
       "      <td>5263</td>\n",
       "      <td>555</td>\n",
       "      <td>1</td>\n",
       "      <td>1</td>\n",
       "      <td>0</td>\n",
       "      <td>1</td>\n",
       "      <td>c</td>\n",
       "      <td>a</td>\n",
       "      <td>1270.0</td>\n",
       "      <td>9.0</td>\n",
       "      <td>2008.0</td>\n",
       "      <td>0</td>\n",
       "      <td>NaN</td>\n",
       "      <td>NaN</td>\n",
       "      <td>NaN</td>\n",
       "    </tr>\n",
       "    <tr>\n",
       "      <th>1</th>\n",
       "      <td>1</td>\n",
       "      <td>4</td>\n",
       "      <td>2015-07-30</td>\n",
       "      <td>5020</td>\n",
       "      <td>546</td>\n",
       "      <td>1</td>\n",
       "      <td>1</td>\n",
       "      <td>0</td>\n",
       "      <td>1</td>\n",
       "      <td>c</td>\n",
       "      <td>a</td>\n",
       "      <td>1270.0</td>\n",
       "      <td>9.0</td>\n",
       "      <td>2008.0</td>\n",
       "      <td>0</td>\n",
       "      <td>NaN</td>\n",
       "      <td>NaN</td>\n",
       "      <td>NaN</td>\n",
       "    </tr>\n",
       "    <tr>\n",
       "      <th>2</th>\n",
       "      <td>1</td>\n",
       "      <td>3</td>\n",
       "      <td>2015-07-29</td>\n",
       "      <td>4782</td>\n",
       "      <td>523</td>\n",
       "      <td>1</td>\n",
       "      <td>1</td>\n",
       "      <td>0</td>\n",
       "      <td>1</td>\n",
       "      <td>c</td>\n",
       "      <td>a</td>\n",
       "      <td>1270.0</td>\n",
       "      <td>9.0</td>\n",
       "      <td>2008.0</td>\n",
       "      <td>0</td>\n",
       "      <td>NaN</td>\n",
       "      <td>NaN</td>\n",
       "      <td>NaN</td>\n",
       "    </tr>\n",
       "    <tr>\n",
       "      <th>3</th>\n",
       "      <td>1</td>\n",
       "      <td>2</td>\n",
       "      <td>2015-07-28</td>\n",
       "      <td>5011</td>\n",
       "      <td>560</td>\n",
       "      <td>1</td>\n",
       "      <td>1</td>\n",
       "      <td>0</td>\n",
       "      <td>1</td>\n",
       "      <td>c</td>\n",
       "      <td>a</td>\n",
       "      <td>1270.0</td>\n",
       "      <td>9.0</td>\n",
       "      <td>2008.0</td>\n",
       "      <td>0</td>\n",
       "      <td>NaN</td>\n",
       "      <td>NaN</td>\n",
       "      <td>NaN</td>\n",
       "    </tr>\n",
       "    <tr>\n",
       "      <th>4</th>\n",
       "      <td>1</td>\n",
       "      <td>1</td>\n",
       "      <td>2015-07-27</td>\n",
       "      <td>6102</td>\n",
       "      <td>612</td>\n",
       "      <td>1</td>\n",
       "      <td>1</td>\n",
       "      <td>0</td>\n",
       "      <td>1</td>\n",
       "      <td>c</td>\n",
       "      <td>a</td>\n",
       "      <td>1270.0</td>\n",
       "      <td>9.0</td>\n",
       "      <td>2008.0</td>\n",
       "      <td>0</td>\n",
       "      <td>NaN</td>\n",
       "      <td>NaN</td>\n",
       "      <td>NaN</td>\n",
       "    </tr>\n",
       "  </tbody>\n",
       "</table>\n",
       "</div>"
      ],
      "text/plain": [
       "   Store  DayOfWeek        Date  Sales  Customers  Open  Promo StateHoliday  \\\n",
       "0      1          5  2015-07-31   5263        555     1      1            0   \n",
       "1      1          4  2015-07-30   5020        546     1      1            0   \n",
       "2      1          3  2015-07-29   4782        523     1      1            0   \n",
       "3      1          2  2015-07-28   5011        560     1      1            0   \n",
       "4      1          1  2015-07-27   6102        612     1      1            0   \n",
       "\n",
       "   SchoolHoliday StoreType Assortment  CompetitionDistance  \\\n",
       "0              1         c          a               1270.0   \n",
       "1              1         c          a               1270.0   \n",
       "2              1         c          a               1270.0   \n",
       "3              1         c          a               1270.0   \n",
       "4              1         c          a               1270.0   \n",
       "\n",
       "   CompetitionOpenSinceMonth  CompetitionOpenSinceYear  Promo2  \\\n",
       "0                        9.0                    2008.0       0   \n",
       "1                        9.0                    2008.0       0   \n",
       "2                        9.0                    2008.0       0   \n",
       "3                        9.0                    2008.0       0   \n",
       "4                        9.0                    2008.0       0   \n",
       "\n",
       "   Promo2SinceWeek  Promo2SinceYear PromoInterval  \n",
       "0              NaN              NaN           NaN  \n",
       "1              NaN              NaN           NaN  \n",
       "2              NaN              NaN           NaN  \n",
       "3              NaN              NaN           NaN  \n",
       "4              NaN              NaN           NaN  "
      ]
     },
     "execution_count": 6,
     "metadata": {},
     "output_type": "execute_result"
    }
   ],
   "source": [
    "# showing the data \n",
    "train_store.head()"
   ]
  },
  {
   "cell_type": "code",
   "execution_count": 7,
   "id": "33c149bd",
   "metadata": {},
   "outputs": [
    {
     "name": "stdout",
     "output_type": "stream",
     "text": [
      "<class 'pandas.core.frame.DataFrame'>\n",
      "Int64Index: 1017209 entries, 0 to 1017208\n",
      "Data columns (total 18 columns):\n",
      " #   Column                     Non-Null Count    Dtype  \n",
      "---  ------                     --------------    -----  \n",
      " 0   Store                      1017209 non-null  int64  \n",
      " 1   DayOfWeek                  1017209 non-null  int64  \n",
      " 2   Date                       1017209 non-null  object \n",
      " 3   Sales                      1017209 non-null  int64  \n",
      " 4   Customers                  1017209 non-null  int64  \n",
      " 5   Open                       1017209 non-null  int64  \n",
      " 6   Promo                      1017209 non-null  int64  \n",
      " 7   StateHoliday               1017209 non-null  object \n",
      " 8   SchoolHoliday              1017209 non-null  int64  \n",
      " 9   StoreType                  1017209 non-null  object \n",
      " 10  Assortment                 1017209 non-null  object \n",
      " 11  CompetitionDistance        1014567 non-null  float64\n",
      " 12  CompetitionOpenSinceMonth  693861 non-null   float64\n",
      " 13  CompetitionOpenSinceYear   693861 non-null   float64\n",
      " 14  Promo2                     1017209 non-null  int64  \n",
      " 15  Promo2SinceWeek            509178 non-null   float64\n",
      " 16  Promo2SinceYear            509178 non-null   float64\n",
      " 17  PromoInterval              509178 non-null   object \n",
      "dtypes: float64(5), int64(8), object(5)\n",
      "memory usage: 147.5+ MB\n"
     ]
    }
   ],
   "source": [
    "# getting the information\n",
    "preprocess = data_preProcessing_script(train_store)\n",
    "preprocess.show_data_information()"
   ]
  },
  {
   "cell_type": "code",
   "execution_count": 9,
   "id": "621e1d9c",
   "metadata": {},
   "outputs": [],
   "source": [
    "# changeing date object to datetime type\n",
    "train_store.Date = pd.to_datetime(train_store[\"Date\"])"
   ]
  },
  {
   "cell_type": "code",
   "execution_count": 10,
   "id": "711c1a85",
   "metadata": {},
   "outputs": [],
   "source": [
    "# object creation\n",
    "train_store_cleaner = DataCleaner(train_store)"
   ]
  },
  {
   "cell_type": "code",
   "execution_count": 12,
   "id": "cb8e05c0",
   "metadata": {},
   "outputs": [
    {
     "name": "stdout",
     "output_type": "stream",
     "text": [
      "<class 'pandas.core.frame.DataFrame'>\n",
      "Int64Index: 1017209 entries, 0 to 1017208\n",
      "Data columns (total 18 columns):\n",
      " #   Column                     Non-Null Count    Dtype         \n",
      "---  ------                     --------------    -----         \n",
      " 0   Store                      1017209 non-null  int64         \n",
      " 1   DayOfWeek                  1017209 non-null  int64         \n",
      " 2   Date                       1017209 non-null  datetime64[ns]\n",
      " 3   Sales                      1017209 non-null  int64         \n",
      " 4   Customers                  1017209 non-null  int64         \n",
      " 5   Open                       1017209 non-null  int64         \n",
      " 6   Promo                      1017209 non-null  int64         \n",
      " 7   StateHoliday               1017209 non-null  object        \n",
      " 8   SchoolHoliday              1017209 non-null  int64         \n",
      " 9   StoreType                  1017209 non-null  object        \n",
      " 10  Assortment                 1017209 non-null  object        \n",
      " 11  CompetitionDistance        1014567 non-null  float64       \n",
      " 12  CompetitionOpenSinceMonth  693861 non-null   float64       \n",
      " 13  CompetitionOpenSinceYear   693861 non-null   float64       \n",
      " 14  Promo2                     1017209 non-null  int64         \n",
      " 15  Promo2SinceWeek            509178 non-null   float64       \n",
      " 16  Promo2SinceYear            509178 non-null   float64       \n",
      " 17  PromoInterval              509178 non-null   object        \n",
      "dtypes: datetime64[ns](1), float64(5), int64(8), object(4)\n",
      "memory usage: 147.5+ MB\n"
     ]
    }
   ],
   "source": [
    "preprocess.show_data_information()"
   ]
  },
  {
   "cell_type": "markdown",
   "id": "e9c70328",
   "metadata": {},
   "source": [
    "# Missing Value Manipulation"
   ]
  },
  {
   "cell_type": "code",
   "execution_count": 13,
   "id": "46d5f12e",
   "metadata": {},
   "outputs": [
    {
     "data": {
      "text/plain": [
       "['CompetitionDistance',\n",
       " 'CompetitionOpenSinceMonth',\n",
       " 'CompetitionOpenSinceYear',\n",
       " 'Promo2SinceWeek',\n",
       " 'Promo2SinceYear',\n",
       " 'PromoInterval']"
      ]
     },
     "execution_count": 13,
     "metadata": {},
     "output_type": "execute_result"
    }
   ],
   "source": [
    "preprocess.colums_WithMissingValue()"
   ]
  },
  {
   "cell_type": "code",
   "execution_count": 14,
   "id": "15a38a1b",
   "metadata": {},
   "outputs": [
    {
     "data": {
      "text/html": [
       "<div>\n",
       "<style scoped>\n",
       "    .dataframe tbody tr th:only-of-type {\n",
       "        vertical-align: middle;\n",
       "    }\n",
       "\n",
       "    .dataframe tbody tr th {\n",
       "        vertical-align: top;\n",
       "    }\n",
       "\n",
       "    .dataframe thead th {\n",
       "        text-align: right;\n",
       "    }\n",
       "</style>\n",
       "<table border=\"1\" class=\"dataframe\">\n",
       "  <thead>\n",
       "    <tr style=\"text-align: right;\">\n",
       "      <th></th>\n",
       "      <th>total_missing_values</th>\n",
       "      <th>missing_percentage</th>\n",
       "    </tr>\n",
       "  </thead>\n",
       "  <tbody>\n",
       "    <tr>\n",
       "      <th>Store</th>\n",
       "      <td>0</td>\n",
       "      <td>0.0 %</td>\n",
       "    </tr>\n",
       "    <tr>\n",
       "      <th>DayOfWeek</th>\n",
       "      <td>0</td>\n",
       "      <td>0.0 %</td>\n",
       "    </tr>\n",
       "    <tr>\n",
       "      <th>Date</th>\n",
       "      <td>0</td>\n",
       "      <td>0.0 %</td>\n",
       "    </tr>\n",
       "    <tr>\n",
       "      <th>Sales</th>\n",
       "      <td>0</td>\n",
       "      <td>0.0 %</td>\n",
       "    </tr>\n",
       "    <tr>\n",
       "      <th>Customers</th>\n",
       "      <td>0</td>\n",
       "      <td>0.0 %</td>\n",
       "    </tr>\n",
       "    <tr>\n",
       "      <th>Open</th>\n",
       "      <td>0</td>\n",
       "      <td>0.0 %</td>\n",
       "    </tr>\n",
       "    <tr>\n",
       "      <th>Promo</th>\n",
       "      <td>0</td>\n",
       "      <td>0.0 %</td>\n",
       "    </tr>\n",
       "    <tr>\n",
       "      <th>StateHoliday</th>\n",
       "      <td>0</td>\n",
       "      <td>0.0 %</td>\n",
       "    </tr>\n",
       "    <tr>\n",
       "      <th>SchoolHoliday</th>\n",
       "      <td>0</td>\n",
       "      <td>0.0 %</td>\n",
       "    </tr>\n",
       "    <tr>\n",
       "      <th>StoreType</th>\n",
       "      <td>0</td>\n",
       "      <td>0.0 %</td>\n",
       "    </tr>\n",
       "    <tr>\n",
       "      <th>Assortment</th>\n",
       "      <td>0</td>\n",
       "      <td>0.0 %</td>\n",
       "    </tr>\n",
       "    <tr>\n",
       "      <th>CompetitionDistance</th>\n",
       "      <td>2642</td>\n",
       "      <td>0.26 %</td>\n",
       "    </tr>\n",
       "    <tr>\n",
       "      <th>CompetitionOpenSinceMonth</th>\n",
       "      <td>323348</td>\n",
       "      <td>31.79 %</td>\n",
       "    </tr>\n",
       "    <tr>\n",
       "      <th>CompetitionOpenSinceYear</th>\n",
       "      <td>323348</td>\n",
       "      <td>31.79 %</td>\n",
       "    </tr>\n",
       "    <tr>\n",
       "      <th>Promo2</th>\n",
       "      <td>0</td>\n",
       "      <td>0.0 %</td>\n",
       "    </tr>\n",
       "    <tr>\n",
       "      <th>Promo2SinceWeek</th>\n",
       "      <td>508031</td>\n",
       "      <td>49.94 %</td>\n",
       "    </tr>\n",
       "    <tr>\n",
       "      <th>Promo2SinceYear</th>\n",
       "      <td>508031</td>\n",
       "      <td>49.94 %</td>\n",
       "    </tr>\n",
       "    <tr>\n",
       "      <th>PromoInterval</th>\n",
       "      <td>508031</td>\n",
       "      <td>49.94 %</td>\n",
       "    </tr>\n",
       "  </tbody>\n",
       "</table>\n",
       "</div>"
      ],
      "text/plain": [
       "                           total_missing_values missing_percentage\n",
       "Store                                         0              0.0 %\n",
       "DayOfWeek                                     0              0.0 %\n",
       "Date                                          0              0.0 %\n",
       "Sales                                         0              0.0 %\n",
       "Customers                                     0              0.0 %\n",
       "Open                                          0              0.0 %\n",
       "Promo                                         0              0.0 %\n",
       "StateHoliday                                  0              0.0 %\n",
       "SchoolHoliday                                 0              0.0 %\n",
       "StoreType                                     0              0.0 %\n",
       "Assortment                                    0              0.0 %\n",
       "CompetitionDistance                        2642             0.26 %\n",
       "CompetitionOpenSinceMonth                323348            31.79 %\n",
       "CompetitionOpenSinceYear                 323348            31.79 %\n",
       "Promo2                                        0              0.0 %\n",
       "Promo2SinceWeek                          508031            49.94 %\n",
       "Promo2SinceYear                          508031            49.94 %\n",
       "PromoInterval                            508031            49.94 %"
      ]
     },
     "execution_count": 14,
     "metadata": {},
     "output_type": "execute_result"
    }
   ],
   "source": [
    "preprocess.get_column_based_missing_percentage()"
   ]
  },
  {
   "cell_type": "code",
   "execution_count": 15,
   "id": "be6fcc5c",
   "metadata": {},
   "outputs": [],
   "source": [
    "# Filling Missing Values\n",
    "try:\n",
    "    train_store['CompetitionDistance'].fillna(train_store['CompetitionDistance'].median(), inplace = True)\n",
    "    train_store['CompetitionOpenSinceMonth'].fillna(train_store['CompetitionOpenSinceMonth'].mode().iloc[0], inplace = True)\n",
    "    train_store['CompetitionOpenSinceYear'].fillna(train_store['CompetitionOpenSinceYear'].mode().iloc[0], inplace = True)\n",
    "# \n",
    "    train_store['Promo2SinceWeek'].fillna(train_store['Promo2SinceWeek'].mode().iloc[0], inplace=True)\n",
    "    train_store['Promo2SinceYear'].fillna(train_store['Promo2SinceYear'].mode().iloc[0], inplace = True)\n",
    "    train_store['PromoInterval'].fillna(train_store['PromoInterval'].mode().iloc[0], inplace=True)\n",
    "#     \n",
    "except Exception as e:\n",
    "    print(\"Failed to fill missing vlaues\")"
   ]
  },
  {
   "cell_type": "code",
   "execution_count": 16,
   "id": "5a58f9cf",
   "metadata": {},
   "outputs": [
    {
     "data": {
      "text/plain": [
       "[]"
      ]
     },
     "execution_count": 16,
     "metadata": {},
     "output_type": "execute_result"
    }
   ],
   "source": [
    "preprocess.colums_WithMissingValue()"
   ]
  },
  {
   "cell_type": "code",
   "execution_count": 17,
   "id": "fdf9c52f",
   "metadata": {},
   "outputs": [
    {
     "name": "stdout",
     "output_type": "stream",
     "text": [
      "Shapes of our datasets\n",
      "-----------------------\n",
      "Training dataset:(1017209, 18)\n"
     ]
    }
   ],
   "source": [
    "#Knowing the shapes of our datasets\n",
    "print('Shapes of our datasets')\n",
    "print('-----------------------')\n",
    "print(f'Training dataset:{train_store.shape}')"
   ]
  },
  {
   "cell_type": "markdown",
   "id": "2353493d",
   "metadata": {},
   "source": [
    "# Outliers"
   ]
  },
  {
   "cell_type": "code",
   "execution_count": 18,
   "id": "d50bac14",
   "metadata": {},
   "outputs": [],
   "source": [
    "from data_exploration import exploration"
   ]
  },
  {
   "cell_type": "code",
   "execution_count": 19,
   "id": "38be734b",
   "metadata": {},
   "outputs": [
    {
     "data": {
      "image/png": "[encoded data removed]",
      "text/plain": [
       "<Figure size 864x504 with 1 Axes>"
      ]
     },
     "metadata": {
      "needs_background": "light"
     },
     "output_type": "display_data"
    }
   ],
   "source": [
    "exploration.plot_box(train_store, 'Store', 'Outliers')"
   ]
  },
  {
   "cell_type": "code",
   "execution_count": null,
   "id": "05483f9f",
   "metadata": {},
   "outputs": [],
   "source": []
  }
 ],
 "metadata": {
  "kernelspec": {
   "display_name": "Python 3 (ipykernel)",
   "language": "python",
   "name": "python3"
  },
  "language_info": {
   "codemirror_mode": {
    "name": "ipython",
    "version": 3
   },
   "file_extension": ".py",
   "mimetype": "text/x-python",
   "name": "python",
   "nbconvert_exporter": "python",
   "pygments_lexer": "ipython3",
   "version": "3.9.12"
  }
 },
 "nbformat": 4,
 "nbformat_minor": 5
}
